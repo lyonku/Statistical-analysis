{
  "metadata": {
    "language_info": {
      "codemirror_mode": {
        "name": "python",
        "version": 3
      },
      "file_extension": ".py",
      "mimetype": "text/x-python",
      "name": "python",
      "nbconvert_exporter": "python",
      "pygments_lexer": "ipython3",
      "version": "3.8"
    },
    "kernelspec": {
      "name": "python",
      "display_name": "Python (Pyodide)",
      "language": "python"
    }
  },
  "nbformat_minor": 4,
  "nbformat": 4,
  "cells": [
    {
      "cell_type": "markdown",
      "source": "# Лабораторная работа 1\n\n",
      "metadata": {}
    },
    {
      "cell_type": "code",
      "source": "import numpy as np\n\n# Предположим, что у нас есть выборка времени, затраченного пользователями на сайте\nsample_data = [10, 15, 12, 18, 25, 30, 22, 16, 11, 28]\n\n# Рассчитываем основные числовые характеристики выборки\nmean_value = np.mean(sample_data)\nvariance_value = np.var(sample_data)\nstd_deviation_value = np.std(sample_data)\nmedian_value = np.median(sample_data)\n\n# Выводим результаты\nprint(\"Среднее значение:\", mean_value)\nprint(\"Дисперсия:\", variance_value)\nprint(\"Стандартное отклонение:\", std_deviation_value)\nprint(\"Медиана:\", median_value)",
      "metadata": {
        "trusted": true
      },
      "execution_count": 4,
      "outputs": [
        {
          "name": "stdout",
          "text": "Среднее значение: 18.7\nДисперсия: 46.61\nСтандартное отклонение: 6.827151675479314\nМедиана: 17.0\n",
          "output_type": "stream"
        }
      ]
    },
    {
      "cell_type": "code",
      "source": "",
      "metadata": {},
      "execution_count": null,
      "outputs": []
    }
  ]
}